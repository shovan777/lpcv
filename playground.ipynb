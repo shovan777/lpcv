{
 "cells": [
  {
   "cell_type": "code",
   "execution_count": 8,
   "metadata": {},
   "outputs": [
    {
     "name": "stdout",
     "output_type": "stream",
     "text": [
      "/home/calcgen2/anaconda3/bin/python\r\n"
     ]
    }
   ],
   "source": [
    "!which python\n"
   ]
  },
  {
   "cell_type": "code",
   "execution_count": 9,
   "metadata": {},
   "outputs": [
    {
     "name": "stdout",
     "output_type": "stream",
     "text": [
      "Python 3.7.3\r\n"
     ]
    }
   ],
   "source": [
    "!python --version"
   ]
  },
  {
   "cell_type": "code",
   "execution_count": 10,
   "metadata": {},
   "outputs": [],
   "source": [
    "cfg_file = 'cfg/yolov3.cfg'"
   ]
  },
  {
   "cell_type": "code",
   "execution_count": 11,
   "metadata": {},
   "outputs": [
    {
     "name": "stdout",
     "output_type": "stream",
     "text": [
      "yolov3.cfg\r\n"
     ]
    }
   ],
   "source": [
    "!ls cfg"
   ]
  },
  {
   "cell_type": "code",
   "execution_count": 12,
   "metadata": {},
   "outputs": [],
   "source": [
    "# read the file and split each line\n",
    "with open(cfg_file, 'r') as file:\n",
    "    lines = file.read().splitlines()\n"
   ]
  },
  {
   "cell_type": "code",
   "execution_count": 13,
   "metadata": {},
   "outputs": [],
   "source": [
    "lines = [line for line in lines if len(line)>0]\n",
    "lines = [line for line in lines if line[0] != '#']\n",
    "lines = [x.rstrip().lstrip() for x in lines]           # get rid of fringe whitespaces"
   ]
  },
  {
   "cell_type": "code",
   "execution_count": 14,
   "metadata": {},
   "outputs": [
    {
     "ename": "NameError",
     "evalue": "name 'block' is not defined",
     "output_type": "error",
     "traceback": [
      "\u001b[0;31m---------------------------------------------------------------------------\u001b[0m",
      "\u001b[0;31mNameError\u001b[0m                                 Traceback (most recent call last)",
      "\u001b[0;32m<ipython-input-14-fdb9d80e34aa>\u001b[0m in \u001b[0;36m<module>\u001b[0;34m\u001b[0m\n\u001b[1;32m      1\u001b[0m \u001b[0;32mfor\u001b[0m \u001b[0mline\u001b[0m \u001b[0;32min\u001b[0m \u001b[0mlines\u001b[0m\u001b[0;34m:\u001b[0m\u001b[0;34m\u001b[0m\u001b[0;34m\u001b[0m\u001b[0m\n\u001b[1;32m      2\u001b[0m     \u001b[0;32mif\u001b[0m \u001b[0mline\u001b[0m\u001b[0;34m[\u001b[0m\u001b[0;36m0\u001b[0m\u001b[0;34m]\u001b[0m \u001b[0;34m==\u001b[0m \u001b[0;34m\"[\"\u001b[0m\u001b[0;34m:\u001b[0m               \u001b[0;31m# This marks the start of a new block\u001b[0m\u001b[0;34m\u001b[0m\u001b[0;34m\u001b[0m\u001b[0m\n\u001b[0;32m----> 3\u001b[0;31m         \u001b[0;32mif\u001b[0m \u001b[0mlen\u001b[0m\u001b[0;34m(\u001b[0m\u001b[0mblock\u001b[0m\u001b[0;34m)\u001b[0m \u001b[0;34m!=\u001b[0m \u001b[0;36m0\u001b[0m\u001b[0;34m:\u001b[0m          \u001b[0;31m# If block is not empty, implies it is storing values of previous block.\u001b[0m\u001b[0;34m\u001b[0m\u001b[0;34m\u001b[0m\u001b[0m\n\u001b[0m\u001b[1;32m      4\u001b[0m             \u001b[0mblocks\u001b[0m\u001b[0;34m.\u001b[0m\u001b[0mappend\u001b[0m\u001b[0;34m(\u001b[0m\u001b[0mblock\u001b[0m\u001b[0;34m)\u001b[0m     \u001b[0;31m# add it the blocks list\u001b[0m\u001b[0;34m\u001b[0m\u001b[0;34m\u001b[0m\u001b[0m\n\u001b[1;32m      5\u001b[0m             \u001b[0mblock\u001b[0m \u001b[0;34m=\u001b[0m \u001b[0;34m{\u001b[0m\u001b[0;34m}\u001b[0m               \u001b[0;31m# re-init the block\u001b[0m\u001b[0;34m\u001b[0m\u001b[0;34m\u001b[0m\u001b[0m\n",
      "\u001b[0;31mNameError\u001b[0m: name 'block' is not defined"
     ]
    }
   ],
   "source": [
    "for line in lines:\n",
    "    if line[0] == \"[\":               # This marks the start of a new block\n",
    "        if len(block) != 0:          # If block is not empty, implies it is storing values of previous block.\n",
    "            blocks.append(block)     # add it the blocks list\n",
    "            block = {}               # re-init the block\n",
    "        block[\"type\"] = line[1:-1].rstrip()     \n",
    "    else:\n",
    "        key,value = line.split(\"=\") \n",
    "        block[key.rstrip()] = value.lstrip()\n",
    "blocks.append(block)"
   ]
  },
  {
   "cell_type": "code",
   "execution_count": 15,
   "metadata": {},
   "outputs": [],
   "source": [
    "blocks = []\n",
    "block = {}\n",
    "for line in lines:\n",
    "    if line[0] == '[':\n",
    "        if block:\n",
    "            blocks.append(block)\n",
    "            block = {}\n",
    "        layer_name = line.strip('[]').rstrip().lstrip()\n",
    "        # get the name of the layer\n",
    "        block['name'] = layer_name\n",
    "    else:\n",
    "        key, value = line.split('=')\n",
    "        key = key.rstrip().lstrip()\n",
    "        value = value.rstrip().lstrip()\n",
    "        values = value.split(',  ')\n",
    "        # check if it is a 2d attribute\n",
    "        if len(values) > 1:\n",
    "            values = [value.split(',') for value in values]\n",
    "        else:\n",
    "            values = value.split(',')\n",
    "        # check if it is a single element\n",
    "        if len(values) == 1:\n",
    "            values = values[0]\n",
    "        block[key] = values\n",
    "blocks.append(block)"
   ]
  },
  {
   "cell_type": "code",
   "execution_count": 16,
   "metadata": {},
   "outputs": [],
   "source": [
    "from __future__ import division\n",
    "\n",
    "import torch\n",
    "import torch.nn as nn\n",
    "import torch.nn.functional as F\n",
    "from torch.autograd import Variable\n",
    "import numpy as np\n"
   ]
  },
  {
   "cell_type": "code",
   "execution_count": 17,
   "metadata": {},
   "outputs": [],
   "source": [
    "class EmptyLayer(nn.Module):\n",
    "    def __init__(self):\n",
    "        super(EmptyLayer, self).__init__()\n"
   ]
  },
  {
   "cell_type": "code",
   "execution_count": 18,
   "metadata": {},
   "outputs": [],
   "source": [
    "class DetectionLayer(nn.Module):\n",
    "    def __init__(self, anchors):\n",
    "        super(DetectionLayer, self).__init__()\n",
    "        self.anchors = anchors\n"
   ]
  },
  {
   "cell_type": "code",
   "execution_count": 19,
   "metadata": {},
   "outputs": [],
   "source": [
    "def create_modules(blocks):\n",
    "    net_info = blocks[0]     #Captures the information about the input and pre-processing    \n",
    "    module_list = nn.ModuleList()\n",
    "    prev_filters = 3\n",
    "    output_filters = []\n",
    "    for index, x in enumerate(blocks[1:]):\n",
    "        module = nn.Sequential()\n",
    "\n",
    "        #check the name of block\n",
    "        #create a new module for the block\n",
    "        #append to module_list\n",
    "        if (x[\"name\"] == \"convolutional\"):\n",
    "            #Get the info about the layer\n",
    "            activation = x[\"activation\"]\n",
    "            try:\n",
    "                batch_normalize = int(x[\"batch_normalize\"])\n",
    "                bias = False\n",
    "            except:\n",
    "                batch_normalize = 0\n",
    "                bias = True\n",
    "\n",
    "            filters= int(x[\"filters\"])\n",
    "            padding = int(x[\"pad\"])\n",
    "            kernel_size = int(x[\"size\"])\n",
    "            stride = int(x[\"stride\"])\n",
    "\n",
    "            if padding:\n",
    "                pad = (kernel_size - 1) // 2\n",
    "            else:\n",
    "                pad = 0\n",
    "\n",
    "            #Add the convolutional layer\n",
    "            conv = nn.Conv2d(prev_filters, filters, kernel_size, stride, pad, bias = bias)\n",
    "            module.add_module(\"conv_{0}\".format(index), conv)\n",
    "\n",
    "            #Add the Batch Norm Layer\n",
    "            if batch_normalize:\n",
    "                bn = nn.BatchNorm2d(filters)\n",
    "                module.add_module(\"batch_norm_{0}\".format(index), bn)\n",
    "\n",
    "            #Check the activation. \n",
    "            #It is either Linear or a Leaky ReLU for YOLO\n",
    "            if activation == \"leaky\":\n",
    "                activn = nn.LeakyReLU(0.1, inplace = True)\n",
    "                module.add_module(\"leaky_{0}\".format(index), activn)\n",
    "\n",
    "        #If it's an upsampling layer\n",
    "        #We use Bilinear2dUpsampling\n",
    "        elif (x[\"name\"] == \"upsample\"):\n",
    "            stride = int(x[\"stride\"])\n",
    "            upsample = nn.Upsample(scale_factor = 2, mode = \"bilinear\")\n",
    "            module.add_module(\"upsample_{}\".format(index), upsample)\n",
    "        #If it is a route layer\n",
    "        elif (x[\"name\"] == \"route\"):\n",
    "#             x[\"layers\"] = x[\"layers\"].split(',')\n",
    "            #Start  of a route\n",
    "#             start = int(x[\"layers\"][0])\n",
    "            #end, if there exists one.\n",
    "            print('route value: ', x[\"layers\"])\n",
    "\n",
    "            try:\n",
    "                start = int(x[\"layers\"][0])\n",
    "                end = int(x[\"layers\"][1])\n",
    "            except:\n",
    "                start = int(x[\"layers\"])\n",
    "                end = 0\n",
    "            #Positive anotation\n",
    "            if start > 0: \n",
    "                start = start - index\n",
    "            if end > 0:\n",
    "                end = end - index\n",
    "            route = EmptyLayer()\n",
    "            module.add_module(\"route_{0}\".format(index), route)\n",
    "            if end < 0:\n",
    "                print('two add')\n",
    "                filters = output_filters[index + start] + output_filters[index + end]\n",
    "            else:\n",
    "                print('one add', start)\n",
    "                filters= output_filters[index + start]\n",
    "            print('filters: ', filters)\n",
    "            print('***********')\n",
    "\n",
    "        #shortcut corresponds to skip connection\n",
    "        elif x[\"name\"] == \"shortcut\":\n",
    "            shortcut = EmptyLayer()\n",
    "            module.add_module(\"shortcut_{}\".format(index), shortcut)\n",
    "        #Yolo is the detection layer\n",
    "        elif x[\"name\"] == \"yolo\":\n",
    "            mask = x[\"mask\"]\n",
    "            mask = [int(x) for x in mask]\n",
    "\n",
    "            anchors = x[\"anchors\"]\n",
    "            anchors = [anchors[i] for i in mask]\n",
    "\n",
    "            detection = DetectionLayer(anchors)\n",
    "            module.add_module(\"Detection_{}\".format(index), detection)\n",
    "        module_list.append(module)\n",
    "        prev_filters = filters\n",
    "        output_filters.append(filters)\n",
    "    return (net_info, module_list)"
   ]
  },
  {
   "cell_type": "code",
   "execution_count": 20,
   "metadata": {
    "scrolled": false
   },
   "outputs": [
    {
     "name": "stdout",
     "output_type": "stream",
     "text": [
      "route value:  -4\n",
      "one add -4\n",
      "filters:  512\n",
      "***********\n",
      "route value:  ['-1', ' 61']\n",
      "two add\n",
      "filters:  768\n",
      "***********\n",
      "route value:  -4\n",
      "one add -4\n",
      "filters:  256\n",
      "***********\n",
      "route value:  ['-1', ' 36']\n",
      "two add\n",
      "filters:  384\n",
      "***********\n"
     ]
    },
    {
     "data": {
      "text/plain": [
       "({'name': 'net',\n",
       "  'batch': '64',\n",
       "  'subdivisions': '16',\n",
       "  'width': '608',\n",
       "  'height': '608',\n",
       "  'channels': '3',\n",
       "  'momentum': '0.9',\n",
       "  'decay': '0.0005',\n",
       "  'angle': '0',\n",
       "  'saturation': '1.5',\n",
       "  'exposure': '1.5',\n",
       "  'hue': '.1',\n",
       "  'learning_rate': '0.001',\n",
       "  'burn_in': '1000',\n",
       "  'max_batches': '500200',\n",
       "  'policy': 'steps',\n",
       "  'steps': ['400000', '450000'],\n",
       "  'scales': ['.1', '.1']},\n",
       " ModuleList(\n",
       "   (0): Sequential(\n",
       "     (conv_0): Conv2d(3, 32, kernel_size=(3, 3), stride=(1, 1), padding=(1, 1), bias=False)\n",
       "     (batch_norm_0): BatchNorm2d(32, eps=1e-05, momentum=0.1, affine=True, track_running_stats=True)\n",
       "     (leaky_0): LeakyReLU(negative_slope=0.1, inplace)\n",
       "   )\n",
       "   (1): Sequential(\n",
       "     (conv_1): Conv2d(32, 64, kernel_size=(3, 3), stride=(2, 2), padding=(1, 1), bias=False)\n",
       "     (batch_norm_1): BatchNorm2d(64, eps=1e-05, momentum=0.1, affine=True, track_running_stats=True)\n",
       "     (leaky_1): LeakyReLU(negative_slope=0.1, inplace)\n",
       "   )\n",
       "   (2): Sequential(\n",
       "     (conv_2): Conv2d(64, 32, kernel_size=(1, 1), stride=(1, 1), bias=False)\n",
       "     (batch_norm_2): BatchNorm2d(32, eps=1e-05, momentum=0.1, affine=True, track_running_stats=True)\n",
       "     (leaky_2): LeakyReLU(negative_slope=0.1, inplace)\n",
       "   )\n",
       "   (3): Sequential(\n",
       "     (conv_3): Conv2d(32, 64, kernel_size=(3, 3), stride=(1, 1), padding=(1, 1), bias=False)\n",
       "     (batch_norm_3): BatchNorm2d(64, eps=1e-05, momentum=0.1, affine=True, track_running_stats=True)\n",
       "     (leaky_3): LeakyReLU(negative_slope=0.1, inplace)\n",
       "   )\n",
       "   (4): Sequential(\n",
       "     (shortcut_4): EmptyLayer()\n",
       "   )\n",
       "   (5): Sequential(\n",
       "     (conv_5): Conv2d(64, 128, kernel_size=(3, 3), stride=(2, 2), padding=(1, 1), bias=False)\n",
       "     (batch_norm_5): BatchNorm2d(128, eps=1e-05, momentum=0.1, affine=True, track_running_stats=True)\n",
       "     (leaky_5): LeakyReLU(negative_slope=0.1, inplace)\n",
       "   )\n",
       "   (6): Sequential(\n",
       "     (conv_6): Conv2d(128, 64, kernel_size=(1, 1), stride=(1, 1), bias=False)\n",
       "     (batch_norm_6): BatchNorm2d(64, eps=1e-05, momentum=0.1, affine=True, track_running_stats=True)\n",
       "     (leaky_6): LeakyReLU(negative_slope=0.1, inplace)\n",
       "   )\n",
       "   (7): Sequential(\n",
       "     (conv_7): Conv2d(64, 128, kernel_size=(3, 3), stride=(1, 1), padding=(1, 1), bias=False)\n",
       "     (batch_norm_7): BatchNorm2d(128, eps=1e-05, momentum=0.1, affine=True, track_running_stats=True)\n",
       "     (leaky_7): LeakyReLU(negative_slope=0.1, inplace)\n",
       "   )\n",
       "   (8): Sequential(\n",
       "     (shortcut_8): EmptyLayer()\n",
       "   )\n",
       "   (9): Sequential(\n",
       "     (conv_9): Conv2d(128, 64, kernel_size=(1, 1), stride=(1, 1), bias=False)\n",
       "     (batch_norm_9): BatchNorm2d(64, eps=1e-05, momentum=0.1, affine=True, track_running_stats=True)\n",
       "     (leaky_9): LeakyReLU(negative_slope=0.1, inplace)\n",
       "   )\n",
       "   (10): Sequential(\n",
       "     (conv_10): Conv2d(64, 128, kernel_size=(3, 3), stride=(1, 1), padding=(1, 1), bias=False)\n",
       "     (batch_norm_10): BatchNorm2d(128, eps=1e-05, momentum=0.1, affine=True, track_running_stats=True)\n",
       "     (leaky_10): LeakyReLU(negative_slope=0.1, inplace)\n",
       "   )\n",
       "   (11): Sequential(\n",
       "     (shortcut_11): EmptyLayer()\n",
       "   )\n",
       "   (12): Sequential(\n",
       "     (conv_12): Conv2d(128, 256, kernel_size=(3, 3), stride=(2, 2), padding=(1, 1), bias=False)\n",
       "     (batch_norm_12): BatchNorm2d(256, eps=1e-05, momentum=0.1, affine=True, track_running_stats=True)\n",
       "     (leaky_12): LeakyReLU(negative_slope=0.1, inplace)\n",
       "   )\n",
       "   (13): Sequential(\n",
       "     (conv_13): Conv2d(256, 128, kernel_size=(1, 1), stride=(1, 1), bias=False)\n",
       "     (batch_norm_13): BatchNorm2d(128, eps=1e-05, momentum=0.1, affine=True, track_running_stats=True)\n",
       "     (leaky_13): LeakyReLU(negative_slope=0.1, inplace)\n",
       "   )\n",
       "   (14): Sequential(\n",
       "     (conv_14): Conv2d(128, 256, kernel_size=(3, 3), stride=(1, 1), padding=(1, 1), bias=False)\n",
       "     (batch_norm_14): BatchNorm2d(256, eps=1e-05, momentum=0.1, affine=True, track_running_stats=True)\n",
       "     (leaky_14): LeakyReLU(negative_slope=0.1, inplace)\n",
       "   )\n",
       "   (15): Sequential(\n",
       "     (shortcut_15): EmptyLayer()\n",
       "   )\n",
       "   (16): Sequential(\n",
       "     (conv_16): Conv2d(256, 128, kernel_size=(1, 1), stride=(1, 1), bias=False)\n",
       "     (batch_norm_16): BatchNorm2d(128, eps=1e-05, momentum=0.1, affine=True, track_running_stats=True)\n",
       "     (leaky_16): LeakyReLU(negative_slope=0.1, inplace)\n",
       "   )\n",
       "   (17): Sequential(\n",
       "     (conv_17): Conv2d(128, 256, kernel_size=(3, 3), stride=(1, 1), padding=(1, 1), bias=False)\n",
       "     (batch_norm_17): BatchNorm2d(256, eps=1e-05, momentum=0.1, affine=True, track_running_stats=True)\n",
       "     (leaky_17): LeakyReLU(negative_slope=0.1, inplace)\n",
       "   )\n",
       "   (18): Sequential(\n",
       "     (shortcut_18): EmptyLayer()\n",
       "   )\n",
       "   (19): Sequential(\n",
       "     (conv_19): Conv2d(256, 128, kernel_size=(1, 1), stride=(1, 1), bias=False)\n",
       "     (batch_norm_19): BatchNorm2d(128, eps=1e-05, momentum=0.1, affine=True, track_running_stats=True)\n",
       "     (leaky_19): LeakyReLU(negative_slope=0.1, inplace)\n",
       "   )\n",
       "   (20): Sequential(\n",
       "     (conv_20): Conv2d(128, 256, kernel_size=(3, 3), stride=(1, 1), padding=(1, 1), bias=False)\n",
       "     (batch_norm_20): BatchNorm2d(256, eps=1e-05, momentum=0.1, affine=True, track_running_stats=True)\n",
       "     (leaky_20): LeakyReLU(negative_slope=0.1, inplace)\n",
       "   )\n",
       "   (21): Sequential(\n",
       "     (shortcut_21): EmptyLayer()\n",
       "   )\n",
       "   (22): Sequential(\n",
       "     (conv_22): Conv2d(256, 128, kernel_size=(1, 1), stride=(1, 1), bias=False)\n",
       "     (batch_norm_22): BatchNorm2d(128, eps=1e-05, momentum=0.1, affine=True, track_running_stats=True)\n",
       "     (leaky_22): LeakyReLU(negative_slope=0.1, inplace)\n",
       "   )\n",
       "   (23): Sequential(\n",
       "     (conv_23): Conv2d(128, 256, kernel_size=(3, 3), stride=(1, 1), padding=(1, 1), bias=False)\n",
       "     (batch_norm_23): BatchNorm2d(256, eps=1e-05, momentum=0.1, affine=True, track_running_stats=True)\n",
       "     (leaky_23): LeakyReLU(negative_slope=0.1, inplace)\n",
       "   )\n",
       "   (24): Sequential(\n",
       "     (shortcut_24): EmptyLayer()\n",
       "   )\n",
       "   (25): Sequential(\n",
       "     (conv_25): Conv2d(256, 128, kernel_size=(1, 1), stride=(1, 1), bias=False)\n",
       "     (batch_norm_25): BatchNorm2d(128, eps=1e-05, momentum=0.1, affine=True, track_running_stats=True)\n",
       "     (leaky_25): LeakyReLU(negative_slope=0.1, inplace)\n",
       "   )\n",
       "   (26): Sequential(\n",
       "     (conv_26): Conv2d(128, 256, kernel_size=(3, 3), stride=(1, 1), padding=(1, 1), bias=False)\n",
       "     (batch_norm_26): BatchNorm2d(256, eps=1e-05, momentum=0.1, affine=True, track_running_stats=True)\n",
       "     (leaky_26): LeakyReLU(negative_slope=0.1, inplace)\n",
       "   )\n",
       "   (27): Sequential(\n",
       "     (shortcut_27): EmptyLayer()\n",
       "   )\n",
       "   (28): Sequential(\n",
       "     (conv_28): Conv2d(256, 128, kernel_size=(1, 1), stride=(1, 1), bias=False)\n",
       "     (batch_norm_28): BatchNorm2d(128, eps=1e-05, momentum=0.1, affine=True, track_running_stats=True)\n",
       "     (leaky_28): LeakyReLU(negative_slope=0.1, inplace)\n",
       "   )\n",
       "   (29): Sequential(\n",
       "     (conv_29): Conv2d(128, 256, kernel_size=(3, 3), stride=(1, 1), padding=(1, 1), bias=False)\n",
       "     (batch_norm_29): BatchNorm2d(256, eps=1e-05, momentum=0.1, affine=True, track_running_stats=True)\n",
       "     (leaky_29): LeakyReLU(negative_slope=0.1, inplace)\n",
       "   )\n",
       "   (30): Sequential(\n",
       "     (shortcut_30): EmptyLayer()\n",
       "   )\n",
       "   (31): Sequential(\n",
       "     (conv_31): Conv2d(256, 128, kernel_size=(1, 1), stride=(1, 1), bias=False)\n",
       "     (batch_norm_31): BatchNorm2d(128, eps=1e-05, momentum=0.1, affine=True, track_running_stats=True)\n",
       "     (leaky_31): LeakyReLU(negative_slope=0.1, inplace)\n",
       "   )\n",
       "   (32): Sequential(\n",
       "     (conv_32): Conv2d(128, 256, kernel_size=(3, 3), stride=(1, 1), padding=(1, 1), bias=False)\n",
       "     (batch_norm_32): BatchNorm2d(256, eps=1e-05, momentum=0.1, affine=True, track_running_stats=True)\n",
       "     (leaky_32): LeakyReLU(negative_slope=0.1, inplace)\n",
       "   )\n",
       "   (33): Sequential(\n",
       "     (shortcut_33): EmptyLayer()\n",
       "   )\n",
       "   (34): Sequential(\n",
       "     (conv_34): Conv2d(256, 128, kernel_size=(1, 1), stride=(1, 1), bias=False)\n",
       "     (batch_norm_34): BatchNorm2d(128, eps=1e-05, momentum=0.1, affine=True, track_running_stats=True)\n",
       "     (leaky_34): LeakyReLU(negative_slope=0.1, inplace)\n",
       "   )\n",
       "   (35): Sequential(\n",
       "     (conv_35): Conv2d(128, 256, kernel_size=(3, 3), stride=(1, 1), padding=(1, 1), bias=False)\n",
       "     (batch_norm_35): BatchNorm2d(256, eps=1e-05, momentum=0.1, affine=True, track_running_stats=True)\n",
       "     (leaky_35): LeakyReLU(negative_slope=0.1, inplace)\n",
       "   )\n",
       "   (36): Sequential(\n",
       "     (shortcut_36): EmptyLayer()\n",
       "   )\n",
       "   (37): Sequential(\n",
       "     (conv_37): Conv2d(256, 512, kernel_size=(3, 3), stride=(2, 2), padding=(1, 1), bias=False)\n",
       "     (batch_norm_37): BatchNorm2d(512, eps=1e-05, momentum=0.1, affine=True, track_running_stats=True)\n",
       "     (leaky_37): LeakyReLU(negative_slope=0.1, inplace)\n",
       "   )\n",
       "   (38): Sequential(\n",
       "     (conv_38): Conv2d(512, 256, kernel_size=(1, 1), stride=(1, 1), bias=False)\n",
       "     (batch_norm_38): BatchNorm2d(256, eps=1e-05, momentum=0.1, affine=True, track_running_stats=True)\n",
       "     (leaky_38): LeakyReLU(negative_slope=0.1, inplace)\n",
       "   )\n",
       "   (39): Sequential(\n",
       "     (conv_39): Conv2d(256, 512, kernel_size=(3, 3), stride=(1, 1), padding=(1, 1), bias=False)\n",
       "     (batch_norm_39): BatchNorm2d(512, eps=1e-05, momentum=0.1, affine=True, track_running_stats=True)\n",
       "     (leaky_39): LeakyReLU(negative_slope=0.1, inplace)\n",
       "   )\n",
       "   (40): Sequential(\n",
       "     (shortcut_40): EmptyLayer()\n",
       "   )\n",
       "   (41): Sequential(\n",
       "     (conv_41): Conv2d(512, 256, kernel_size=(1, 1), stride=(1, 1), bias=False)\n",
       "     (batch_norm_41): BatchNorm2d(256, eps=1e-05, momentum=0.1, affine=True, track_running_stats=True)\n",
       "     (leaky_41): LeakyReLU(negative_slope=0.1, inplace)\n",
       "   )\n",
       "   (42): Sequential(\n",
       "     (conv_42): Conv2d(256, 512, kernel_size=(3, 3), stride=(1, 1), padding=(1, 1), bias=False)\n",
       "     (batch_norm_42): BatchNorm2d(512, eps=1e-05, momentum=0.1, affine=True, track_running_stats=True)\n",
       "     (leaky_42): LeakyReLU(negative_slope=0.1, inplace)\n",
       "   )\n",
       "   (43): Sequential(\n",
       "     (shortcut_43): EmptyLayer()\n",
       "   )\n",
       "   (44): Sequential(\n",
       "     (conv_44): Conv2d(512, 256, kernel_size=(1, 1), stride=(1, 1), bias=False)\n",
       "     (batch_norm_44): BatchNorm2d(256, eps=1e-05, momentum=0.1, affine=True, track_running_stats=True)\n",
       "     (leaky_44): LeakyReLU(negative_slope=0.1, inplace)\n",
       "   )\n",
       "   (45): Sequential(\n",
       "     (conv_45): Conv2d(256, 512, kernel_size=(3, 3), stride=(1, 1), padding=(1, 1), bias=False)\n",
       "     (batch_norm_45): BatchNorm2d(512, eps=1e-05, momentum=0.1, affine=True, track_running_stats=True)\n",
       "     (leaky_45): LeakyReLU(negative_slope=0.1, inplace)\n",
       "   )\n",
       "   (46): Sequential(\n",
       "     (shortcut_46): EmptyLayer()\n",
       "   )\n",
       "   (47): Sequential(\n",
       "     (conv_47): Conv2d(512, 256, kernel_size=(1, 1), stride=(1, 1), bias=False)\n",
       "     (batch_norm_47): BatchNorm2d(256, eps=1e-05, momentum=0.1, affine=True, track_running_stats=True)\n",
       "     (leaky_47): LeakyReLU(negative_slope=0.1, inplace)\n",
       "   )\n",
       "   (48): Sequential(\n",
       "     (conv_48): Conv2d(256, 512, kernel_size=(3, 3), stride=(1, 1), padding=(1, 1), bias=False)\n",
       "     (batch_norm_48): BatchNorm2d(512, eps=1e-05, momentum=0.1, affine=True, track_running_stats=True)\n",
       "     (leaky_48): LeakyReLU(negative_slope=0.1, inplace)\n",
       "   )\n",
       "   (49): Sequential(\n",
       "     (shortcut_49): EmptyLayer()\n",
       "   )\n",
       "   (50): Sequential(\n",
       "     (conv_50): Conv2d(512, 256, kernel_size=(1, 1), stride=(1, 1), bias=False)\n",
       "     (batch_norm_50): BatchNorm2d(256, eps=1e-05, momentum=0.1, affine=True, track_running_stats=True)\n",
       "     (leaky_50): LeakyReLU(negative_slope=0.1, inplace)\n",
       "   )\n",
       "   (51): Sequential(\n",
       "     (conv_51): Conv2d(256, 512, kernel_size=(3, 3), stride=(1, 1), padding=(1, 1), bias=False)\n",
       "     (batch_norm_51): BatchNorm2d(512, eps=1e-05, momentum=0.1, affine=True, track_running_stats=True)\n",
       "     (leaky_51): LeakyReLU(negative_slope=0.1, inplace)\n",
       "   )\n",
       "   (52): Sequential(\n",
       "     (shortcut_52): EmptyLayer()\n",
       "   )\n",
       "   (53): Sequential(\n",
       "     (conv_53): Conv2d(512, 256, kernel_size=(1, 1), stride=(1, 1), bias=False)\n",
       "     (batch_norm_53): BatchNorm2d(256, eps=1e-05, momentum=0.1, affine=True, track_running_stats=True)\n",
       "     (leaky_53): LeakyReLU(negative_slope=0.1, inplace)\n",
       "   )\n",
       "   (54): Sequential(\n",
       "     (conv_54): Conv2d(256, 512, kernel_size=(3, 3), stride=(1, 1), padding=(1, 1), bias=False)\n",
       "     (batch_norm_54): BatchNorm2d(512, eps=1e-05, momentum=0.1, affine=True, track_running_stats=True)\n",
       "     (leaky_54): LeakyReLU(negative_slope=0.1, inplace)\n",
       "   )\n",
       "   (55): Sequential(\n",
       "     (shortcut_55): EmptyLayer()\n",
       "   )\n",
       "   (56): Sequential(\n",
       "     (conv_56): Conv2d(512, 256, kernel_size=(1, 1), stride=(1, 1), bias=False)\n",
       "     (batch_norm_56): BatchNorm2d(256, eps=1e-05, momentum=0.1, affine=True, track_running_stats=True)\n",
       "     (leaky_56): LeakyReLU(negative_slope=0.1, inplace)\n",
       "   )\n",
       "   (57): Sequential(\n",
       "     (conv_57): Conv2d(256, 512, kernel_size=(3, 3), stride=(1, 1), padding=(1, 1), bias=False)\n",
       "     (batch_norm_57): BatchNorm2d(512, eps=1e-05, momentum=0.1, affine=True, track_running_stats=True)\n",
       "     (leaky_57): LeakyReLU(negative_slope=0.1, inplace)\n",
       "   )\n",
       "   (58): Sequential(\n",
       "     (shortcut_58): EmptyLayer()\n",
       "   )\n",
       "   (59): Sequential(\n",
       "     (conv_59): Conv2d(512, 256, kernel_size=(1, 1), stride=(1, 1), bias=False)\n",
       "     (batch_norm_59): BatchNorm2d(256, eps=1e-05, momentum=0.1, affine=True, track_running_stats=True)\n",
       "     (leaky_59): LeakyReLU(negative_slope=0.1, inplace)\n",
       "   )\n",
       "   (60): Sequential(\n",
       "     (conv_60): Conv2d(256, 512, kernel_size=(3, 3), stride=(1, 1), padding=(1, 1), bias=False)\n",
       "     (batch_norm_60): BatchNorm2d(512, eps=1e-05, momentum=0.1, affine=True, track_running_stats=True)\n",
       "     (leaky_60): LeakyReLU(negative_slope=0.1, inplace)\n",
       "   )\n",
       "   (61): Sequential(\n",
       "     (shortcut_61): EmptyLayer()\n",
       "   )\n",
       "   (62): Sequential(\n",
       "     (conv_62): Conv2d(512, 1024, kernel_size=(3, 3), stride=(2, 2), padding=(1, 1), bias=False)\n",
       "     (batch_norm_62): BatchNorm2d(1024, eps=1e-05, momentum=0.1, affine=True, track_running_stats=True)\n",
       "     (leaky_62): LeakyReLU(negative_slope=0.1, inplace)\n",
       "   )\n",
       "   (63): Sequential(\n",
       "     (conv_63): Conv2d(1024, 512, kernel_size=(1, 1), stride=(1, 1), bias=False)\n",
       "     (batch_norm_63): BatchNorm2d(512, eps=1e-05, momentum=0.1, affine=True, track_running_stats=True)\n",
       "     (leaky_63): LeakyReLU(negative_slope=0.1, inplace)\n",
       "   )\n",
       "   (64): Sequential(\n",
       "     (conv_64): Conv2d(512, 1024, kernel_size=(3, 3), stride=(1, 1), padding=(1, 1), bias=False)\n",
       "     (batch_norm_64): BatchNorm2d(1024, eps=1e-05, momentum=0.1, affine=True, track_running_stats=True)\n",
       "     (leaky_64): LeakyReLU(negative_slope=0.1, inplace)\n",
       "   )\n",
       "   (65): Sequential(\n",
       "     (shortcut_65): EmptyLayer()\n",
       "   )\n",
       "   (66): Sequential(\n",
       "     (conv_66): Conv2d(1024, 512, kernel_size=(1, 1), stride=(1, 1), bias=False)\n",
       "     (batch_norm_66): BatchNorm2d(512, eps=1e-05, momentum=0.1, affine=True, track_running_stats=True)\n",
       "     (leaky_66): LeakyReLU(negative_slope=0.1, inplace)\n",
       "   )\n",
       "   (67): Sequential(\n",
       "     (conv_67): Conv2d(512, 1024, kernel_size=(3, 3), stride=(1, 1), padding=(1, 1), bias=False)\n",
       "     (batch_norm_67): BatchNorm2d(1024, eps=1e-05, momentum=0.1, affine=True, track_running_stats=True)\n",
       "     (leaky_67): LeakyReLU(negative_slope=0.1, inplace)\n",
       "   )\n",
       "   (68): Sequential(\n",
       "     (shortcut_68): EmptyLayer()\n",
       "   )\n",
       "   (69): Sequential(\n",
       "     (conv_69): Conv2d(1024, 512, kernel_size=(1, 1), stride=(1, 1), bias=False)\n",
       "     (batch_norm_69): BatchNorm2d(512, eps=1e-05, momentum=0.1, affine=True, track_running_stats=True)\n",
       "     (leaky_69): LeakyReLU(negative_slope=0.1, inplace)\n",
       "   )\n",
       "   (70): Sequential(\n",
       "     (conv_70): Conv2d(512, 1024, kernel_size=(3, 3), stride=(1, 1), padding=(1, 1), bias=False)\n",
       "     (batch_norm_70): BatchNorm2d(1024, eps=1e-05, momentum=0.1, affine=True, track_running_stats=True)\n",
       "     (leaky_70): LeakyReLU(negative_slope=0.1, inplace)\n",
       "   )\n",
       "   (71): Sequential(\n",
       "     (shortcut_71): EmptyLayer()\n",
       "   )\n",
       "   (72): Sequential(\n",
       "     (conv_72): Conv2d(1024, 512, kernel_size=(1, 1), stride=(1, 1), bias=False)\n",
       "     (batch_norm_72): BatchNorm2d(512, eps=1e-05, momentum=0.1, affine=True, track_running_stats=True)\n",
       "     (leaky_72): LeakyReLU(negative_slope=0.1, inplace)\n",
       "   )\n",
       "   (73): Sequential(\n",
       "     (conv_73): Conv2d(512, 1024, kernel_size=(3, 3), stride=(1, 1), padding=(1, 1), bias=False)\n",
       "     (batch_norm_73): BatchNorm2d(1024, eps=1e-05, momentum=0.1, affine=True, track_running_stats=True)\n",
       "     (leaky_73): LeakyReLU(negative_slope=0.1, inplace)\n",
       "   )\n",
       "   (74): Sequential(\n",
       "     (shortcut_74): EmptyLayer()\n",
       "   )\n",
       "   (75): Sequential(\n",
       "     (conv_75): Conv2d(1024, 512, kernel_size=(1, 1), stride=(1, 1), bias=False)\n",
       "     (batch_norm_75): BatchNorm2d(512, eps=1e-05, momentum=0.1, affine=True, track_running_stats=True)\n",
       "     (leaky_75): LeakyReLU(negative_slope=0.1, inplace)\n",
       "   )\n",
       "   (76): Sequential(\n",
       "     (conv_76): Conv2d(512, 1024, kernel_size=(3, 3), stride=(1, 1), padding=(1, 1), bias=False)\n",
       "     (batch_norm_76): BatchNorm2d(1024, eps=1e-05, momentum=0.1, affine=True, track_running_stats=True)\n",
       "     (leaky_76): LeakyReLU(negative_slope=0.1, inplace)\n",
       "   )\n",
       "   (77): Sequential(\n",
       "     (conv_77): Conv2d(1024, 512, kernel_size=(1, 1), stride=(1, 1), bias=False)\n",
       "     (batch_norm_77): BatchNorm2d(512, eps=1e-05, momentum=0.1, affine=True, track_running_stats=True)\n",
       "     (leaky_77): LeakyReLU(negative_slope=0.1, inplace)\n",
       "   )\n",
       "   (78): Sequential(\n",
       "     (conv_78): Conv2d(512, 1024, kernel_size=(3, 3), stride=(1, 1), padding=(1, 1), bias=False)\n",
       "     (batch_norm_78): BatchNorm2d(1024, eps=1e-05, momentum=0.1, affine=True, track_running_stats=True)\n",
       "     (leaky_78): LeakyReLU(negative_slope=0.1, inplace)\n",
       "   )\n",
       "   (79): Sequential(\n",
       "     (conv_79): Conv2d(1024, 512, kernel_size=(1, 1), stride=(1, 1), bias=False)\n",
       "     (batch_norm_79): BatchNorm2d(512, eps=1e-05, momentum=0.1, affine=True, track_running_stats=True)\n",
       "     (leaky_79): LeakyReLU(negative_slope=0.1, inplace)\n",
       "   )\n",
       "   (80): Sequential(\n",
       "     (conv_80): Conv2d(512, 1024, kernel_size=(3, 3), stride=(1, 1), padding=(1, 1), bias=False)\n",
       "     (batch_norm_80): BatchNorm2d(1024, eps=1e-05, momentum=0.1, affine=True, track_running_stats=True)\n",
       "     (leaky_80): LeakyReLU(negative_slope=0.1, inplace)\n",
       "   )\n",
       "   (81): Sequential(\n",
       "     (conv_81): Conv2d(1024, 255, kernel_size=(1, 1), stride=(1, 1))\n",
       "   )\n",
       "   (82): Sequential(\n",
       "     (Detection_82): DetectionLayer()\n",
       "   )\n",
       "   (83): Sequential(\n",
       "     (route_83): EmptyLayer()\n",
       "   )\n",
       "   (84): Sequential(\n",
       "     (conv_84): Conv2d(512, 256, kernel_size=(1, 1), stride=(1, 1), bias=False)\n",
       "     (batch_norm_84): BatchNorm2d(256, eps=1e-05, momentum=0.1, affine=True, track_running_stats=True)\n",
       "     (leaky_84): LeakyReLU(negative_slope=0.1, inplace)\n",
       "   )\n",
       "   (85): Sequential(\n",
       "     (upsample_85): Upsample(scale_factor=2, mode=bilinear)\n",
       "   )\n",
       "   (86): Sequential(\n",
       "     (route_86): EmptyLayer()\n",
       "   )\n",
       "   (87): Sequential(\n",
       "     (conv_87): Conv2d(768, 256, kernel_size=(1, 1), stride=(1, 1), bias=False)\n",
       "     (batch_norm_87): BatchNorm2d(256, eps=1e-05, momentum=0.1, affine=True, track_running_stats=True)\n",
       "     (leaky_87): LeakyReLU(negative_slope=0.1, inplace)\n",
       "   )\n",
       "   (88): Sequential(\n",
       "     (conv_88): Conv2d(256, 512, kernel_size=(3, 3), stride=(1, 1), padding=(1, 1), bias=False)\n",
       "     (batch_norm_88): BatchNorm2d(512, eps=1e-05, momentum=0.1, affine=True, track_running_stats=True)\n",
       "     (leaky_88): LeakyReLU(negative_slope=0.1, inplace)\n",
       "   )\n",
       "   (89): Sequential(\n",
       "     (conv_89): Conv2d(512, 256, kernel_size=(1, 1), stride=(1, 1), bias=False)\n",
       "     (batch_norm_89): BatchNorm2d(256, eps=1e-05, momentum=0.1, affine=True, track_running_stats=True)\n",
       "     (leaky_89): LeakyReLU(negative_slope=0.1, inplace)\n",
       "   )\n",
       "   (90): Sequential(\n",
       "     (conv_90): Conv2d(256, 512, kernel_size=(3, 3), stride=(1, 1), padding=(1, 1), bias=False)\n",
       "     (batch_norm_90): BatchNorm2d(512, eps=1e-05, momentum=0.1, affine=True, track_running_stats=True)\n",
       "     (leaky_90): LeakyReLU(negative_slope=0.1, inplace)\n",
       "   )\n",
       "   (91): Sequential(\n",
       "     (conv_91): Conv2d(512, 256, kernel_size=(1, 1), stride=(1, 1), bias=False)\n",
       "     (batch_norm_91): BatchNorm2d(256, eps=1e-05, momentum=0.1, affine=True, track_running_stats=True)\n",
       "     (leaky_91): LeakyReLU(negative_slope=0.1, inplace)\n",
       "   )\n",
       "   (92): Sequential(\n",
       "     (conv_92): Conv2d(256, 512, kernel_size=(3, 3), stride=(1, 1), padding=(1, 1), bias=False)\n",
       "     (batch_norm_92): BatchNorm2d(512, eps=1e-05, momentum=0.1, affine=True, track_running_stats=True)\n",
       "     (leaky_92): LeakyReLU(negative_slope=0.1, inplace)\n",
       "   )\n",
       "   (93): Sequential(\n",
       "     (conv_93): Conv2d(512, 255, kernel_size=(1, 1), stride=(1, 1))\n",
       "   )\n",
       "   (94): Sequential(\n",
       "     (Detection_94): DetectionLayer()\n",
       "   )\n",
       "   (95): Sequential(\n",
       "     (route_95): EmptyLayer()\n",
       "   )\n",
       "   (96): Sequential(\n",
       "     (conv_96): Conv2d(256, 128, kernel_size=(1, 1), stride=(1, 1), bias=False)\n",
       "     (batch_norm_96): BatchNorm2d(128, eps=1e-05, momentum=0.1, affine=True, track_running_stats=True)\n",
       "     (leaky_96): LeakyReLU(negative_slope=0.1, inplace)\n",
       "   )\n",
       "   (97): Sequential(\n",
       "     (upsample_97): Upsample(scale_factor=2, mode=bilinear)\n",
       "   )\n",
       "   (98): Sequential(\n",
       "     (route_98): EmptyLayer()\n",
       "   )\n",
       "   (99): Sequential(\n",
       "     (conv_99): Conv2d(384, 128, kernel_size=(1, 1), stride=(1, 1), bias=False)\n",
       "     (batch_norm_99): BatchNorm2d(128, eps=1e-05, momentum=0.1, affine=True, track_running_stats=True)\n",
       "     (leaky_99): LeakyReLU(negative_slope=0.1, inplace)\n",
       "   )\n",
       "   (100): Sequential(\n",
       "     (conv_100): Conv2d(128, 256, kernel_size=(3, 3), stride=(1, 1), padding=(1, 1), bias=False)\n",
       "     (batch_norm_100): BatchNorm2d(256, eps=1e-05, momentum=0.1, affine=True, track_running_stats=True)\n",
       "     (leaky_100): LeakyReLU(negative_slope=0.1, inplace)\n",
       "   )\n",
       "   (101): Sequential(\n",
       "     (conv_101): Conv2d(256, 128, kernel_size=(1, 1), stride=(1, 1), bias=False)\n",
       "     (batch_norm_101): BatchNorm2d(128, eps=1e-05, momentum=0.1, affine=True, track_running_stats=True)\n",
       "     (leaky_101): LeakyReLU(negative_slope=0.1, inplace)\n",
       "   )\n",
       "   (102): Sequential(\n",
       "     (conv_102): Conv2d(128, 256, kernel_size=(3, 3), stride=(1, 1), padding=(1, 1), bias=False)\n",
       "     (batch_norm_102): BatchNorm2d(256, eps=1e-05, momentum=0.1, affine=True, track_running_stats=True)\n",
       "     (leaky_102): LeakyReLU(negative_slope=0.1, inplace)\n",
       "   )\n",
       "   (103): Sequential(\n",
       "     (conv_103): Conv2d(256, 128, kernel_size=(1, 1), stride=(1, 1), bias=False)\n",
       "     (batch_norm_103): BatchNorm2d(128, eps=1e-05, momentum=0.1, affine=True, track_running_stats=True)\n",
       "     (leaky_103): LeakyReLU(negative_slope=0.1, inplace)\n",
       "   )\n",
       "   (104): Sequential(\n",
       "     (conv_104): Conv2d(128, 256, kernel_size=(3, 3), stride=(1, 1), padding=(1, 1), bias=False)\n",
       "     (batch_norm_104): BatchNorm2d(256, eps=1e-05, momentum=0.1, affine=True, track_running_stats=True)\n",
       "     (leaky_104): LeakyReLU(negative_slope=0.1, inplace)\n",
       "   )\n",
       "   (105): Sequential(\n",
       "     (conv_105): Conv2d(256, 255, kernel_size=(1, 1), stride=(1, 1))\n",
       "   )\n",
       "   (106): Sequential(\n",
       "     (Detection_106): DetectionLayer()\n",
       "   )\n",
       " ))"
      ]
     },
     "execution_count": 20,
     "metadata": {},
     "output_type": "execute_result"
    }
   ],
   "source": [
    "create_modules(blocks)"
   ]
  },
  {
   "cell_type": "code",
   "execution_count": 6,
   "metadata": {},
   "outputs": [],
   "source": [
    "# my function\n",
    "def create_modules(blocks):\n",
    "    print('my function')\n",
    "    # create the actual nn using the blocks\n",
    "    # Captures the information about the input and pre-processing\n",
    "    net_info = blocks[0]\n",
    "    module_list = nn.ModuleList()\n",
    "    prev_filters = 3\n",
    "    output_filters = []\n",
    "\n",
    "# iterate throught the blocks and create module for each block\n",
    "    for index, layer in enumerate(blocks[1:]):\n",
    "        module = nn.Sequential()\n",
    "        # check the type of block\n",
    "        # create a new moduel for the block\n",
    "        # append to module_list\n",
    "        if (layer['name'] == 'convolutional'):\n",
    "            try:\n",
    "                batch_norm = int(layer['batch_normalize'])\n",
    "                bias = False\n",
    "            except:\n",
    "                batch_norm = 0\n",
    "                bias = True\n",
    "            filters = int(layer['filters'])\n",
    "            kernel_size = int(layer['size'])\n",
    "            stride = int(layer['stride'])\n",
    "            padding = int(layer['pad'])\n",
    "\n",
    "            activation = layer['activation']\n",
    "\n",
    "            if padding:\n",
    "                pad = (kernel_size - 1) // 2\n",
    "            else:\n",
    "                pad = 0\n",
    "\n",
    "            # Add the convolutional layer\n",
    "            conv_layer = nn.Conv2d(\n",
    "                in_channels=prev_filters,\n",
    "                out_channels=filters,\n",
    "                kernel_size=kernel_size,\n",
    "                stride=stride,\n",
    "                padding=pad,\n",
    "                bias=bias\n",
    "            )\n",
    "            module.add_module('Conv_{}'.format(index), conv_layer)\n",
    "\n",
    "            # Add if there is batch norm\n",
    "            if batch_norm:\n",
    "                batchN_layer = nn.BatchNorm2d(\n",
    "                    num_features=filters\n",
    "                )\n",
    "                module.add_module('BatchN_{}'.format(index), batchN_layer)\n",
    "\n",
    "            # Check the type of activation and add\n",
    "            if activation == 'leaky':\n",
    "                # here the negative slope is 0.01 which is default\n",
    "                # but the tutorial uses 0.1 why?????\n",
    "                l_relu_layer = nn.LeakyReLU(\n",
    "                    inplace=True,\n",
    "                    negative_slope=0.01\n",
    "                )\n",
    "                module.add_module('LRelu_{}'.format(index), l_relu_layer)\n",
    "\n",
    "        elif layer['name'] == 'upsample':\n",
    "            stride = int(layer['stride'])\n",
    "            upsample_layer = nn.Upsample(\n",
    "                scale_factor=stride,\n",
    "                mode='bilinear'\n",
    "            )\n",
    "            module.add_module('Upsample_{}'.format(index), upsample_layer)\n",
    "\n",
    "        elif layer['name'] == 'route':\n",
    "            prev_layers = layer['layers']\n",
    "            print('route value: ', prev_layers)\n",
    "            # get the prev layers output\n",
    "            # concatenate them and send as output\n",
    "            try:\n",
    "                # route layers may have two / one layers\n",
    "                first_layer = int(prev_layers[0])\n",
    "                second_layer = int(prev_layers[1])\n",
    "            except:\n",
    "                first_layer = int(prev_layers)\n",
    "                second_layer = 0\n",
    "\n",
    "            # calculate the number of outputs\n",
    "            if not second_layer:\n",
    "                print('one add', first_layer)\n",
    "                filters = output_filters[index + first_layer]\n",
    "            else:\n",
    "                print('two add', second_layer)\n",
    "                \n",
    "                filters = output_filters[index + first_layer] +\\\n",
    "                    output_filters[second_layer]\n",
    "            print('filters: ', filters)\n",
    "            print('******')\n",
    "            route_layer = EmptyLayer()\n",
    "            module.add_module('Route_{}'.format(index), route_layer)\n",
    "        elif layer['name'] == 'shortcut':\n",
    "            # shortcut = Emptylayer()\n",
    "            prev_layers = layer['from']\n",
    "            activation = layer['activation']\n",
    "\n",
    "            # filters = output_filters[prev_layers]\n",
    "            shorcut_layer = EmptyLayer()\n",
    "            module.add_module('Shorcut_{}'.format(index), shorcut_layer)\n",
    "        elif layer['name'] == 'yolo':\n",
    "            masks = layer['mask']\n",
    "            masks = [int(mask) for mask in masks]\n",
    "\n",
    "            anchors = layer['anchors']\n",
    "            detection_layer = DetectionLayer(anchors)\n",
    "            module.add_module(\"Detection_{}\".format(index),\n",
    "                              detection_layer)\n",
    "\n",
    "        module_list.append(module)\n",
    "        prev_filters = filters\n",
    "        output_filters.append(filters)\n",
    "    return (net_info, module_list)"
   ]
  },
  {
   "cell_type": "code",
   "execution_count": 7,
   "metadata": {},
   "outputs": [
    {
     "ename": "NameError",
     "evalue": "name 'blocks' is not defined",
     "output_type": "error",
     "traceback": [
      "\u001b[0;31m---------------------------------------------------------------------------\u001b[0m",
      "\u001b[0;31mNameError\u001b[0m                                 Traceback (most recent call last)",
      "\u001b[0;32m<ipython-input-7-bf0d6a14cec9>\u001b[0m in \u001b[0;36m<module>\u001b[0;34m\u001b[0m\n\u001b[0;32m----> 1\u001b[0;31m \u001b[0mcreate_modules\u001b[0m\u001b[0;34m(\u001b[0m\u001b[0mblocks\u001b[0m\u001b[0;34m)\u001b[0m\u001b[0;34m\u001b[0m\u001b[0;34m\u001b[0m\u001b[0m\n\u001b[0m",
      "\u001b[0;31mNameError\u001b[0m: name 'blocks' is not defined"
     ]
    }
   ],
   "source": [
    "create_modules(blocks)"
   ]
  },
  {
   "cell_type": "code",
   "execution_count": 42,
   "metadata": {},
   "outputs": [],
   "source": [
    "import numpy as np\n"
   ]
  },
  {
   "cell_type": "code",
   "execution_count": 44,
   "metadata": {},
   "outputs": [
    {
     "data": {
      "text/plain": [
       "[array([[5]]), array([[5]])]"
      ]
     },
     "execution_count": 44,
     "metadata": {},
     "output_type": "execute_result"
    }
   ],
   "source": [
    "list(np.meshgrid(5,5))"
   ]
  },
  {
   "cell_type": "code",
   "execution_count": 45,
   "metadata": {},
   "outputs": [],
   "source": [
    "a =np.meshgrid(5,5)"
   ]
  },
  {
   "cell_type": "code",
   "execution_count": 49,
   "metadata": {},
   "outputs": [
    {
     "ename": "TypeError",
     "evalue": "list indices must be integers or slices, not tuple",
     "output_type": "error",
     "traceback": [
      "\u001b[0;31m---------------------------------------------------------------------------\u001b[0m",
      "\u001b[0;31mTypeError\u001b[0m                                 Traceback (most recent call last)",
      "\u001b[0;32m<ipython-input-49-73b9fe84793e>\u001b[0m in \u001b[0;36m<module>\u001b[0;34m\u001b[0m\n\u001b[0;32m----> 1\u001b[0;31m \u001b[0ma\u001b[0m\u001b[0;34m[\u001b[0m\u001b[0;36m1\u001b[0m\u001b[0;34m,\u001b[0m\u001b[0;36m1\u001b[0m\u001b[0;34m]\u001b[0m\u001b[0;34m\u001b[0m\u001b[0;34m\u001b[0m\u001b[0m\n\u001b[0m",
      "\u001b[0;31mTypeError\u001b[0m: list indices must be integers or slices, not tuple"
     ]
    }
   ],
   "source": [
    "a[1,1]"
   ]
  },
  {
   "cell_type": "code",
   "execution_count": 51,
   "metadata": {},
   "outputs": [],
   "source": [
    "x = np.arange(5)"
   ]
  },
  {
   "cell_type": "code",
   "execution_count": 52,
   "metadata": {},
   "outputs": [
    {
     "data": {
      "text/plain": [
       "array([0, 1, 2, 3, 4])"
      ]
     },
     "execution_count": 52,
     "metadata": {},
     "output_type": "execute_result"
    }
   ],
   "source": [
    "x"
   ]
  },
  {
   "cell_type": "code",
   "execution_count": 64,
   "metadata": {},
   "outputs": [],
   "source": [
    "a, b = np.meshgrid(x,x)"
   ]
  },
  {
   "cell_type": "code",
   "execution_count": 63,
   "metadata": {},
   "outputs": [
    {
     "data": {
      "text/plain": [
       "'1.0.0'"
      ]
     },
     "execution_count": 63,
     "metadata": {},
     "output_type": "execute_result"
    }
   ],
   "source": [
    "torch.__version__"
   ]
  },
  {
   "cell_type": "code",
   "execution_count": 65,
   "metadata": {},
   "outputs": [
    {
     "data": {
      "text/plain": [
       "(5, 5)"
      ]
     },
     "execution_count": 65,
     "metadata": {},
     "output_type": "execute_result"
    }
   ],
   "source": [
    "a.shape"
   ]
  },
  {
   "cell_type": "code",
   "execution_count": 69,
   "metadata": {},
   "outputs": [],
   "source": [
    "x_offset = torch.FloatTensor(a).view(-1,1)\n",
    "y_offset = torch.FloatTensor(b).view(-1,1)\n"
   ]
  },
  {
   "cell_type": "code",
   "execution_count": 80,
   "metadata": {},
   "outputs": [
    {
     "data": {
      "text/plain": [
       "torch.Size([25, 6])"
      ]
     },
     "execution_count": 80,
     "metadata": {},
     "output_type": "execute_result"
    }
   ],
   "source": [
    "torch.cat((x_offset, y_offset), 1).repeat(1,3).shape"
   ]
  },
  {
   "cell_type": "code",
   "execution_count": 81,
   "metadata": {},
   "outputs": [],
   "source": [
    "x= torch.Tensor((1,2,3))"
   ]
  },
  {
   "cell_type": "code",
   "execution_count": 92,
   "metadata": {},
   "outputs": [
    {
     "data": {
      "text/plain": [
       "torch.Size([4, 3])"
      ]
     },
     "execution_count": 92,
     "metadata": {},
     "output_type": "execute_result"
    }
   ],
   "source": [
    "x.repeat(2*2,1).shape"
   ]
  },
  {
   "cell_type": "code",
   "execution_count": 93,
   "metadata": {},
   "outputs": [
    {
     "data": {
      "text/plain": [
       "torch.Size([1, 4, 3])"
      ]
     },
     "execution_count": 93,
     "metadata": {},
     "output_type": "execute_result"
    }
   ],
   "source": [
    "x.repeat(2*2,1).unsqueeze(0).shape"
   ]
  },
  {
   "cell_type": "code",
   "execution_count": 21,
   "metadata": {},
   "outputs": [],
   "source": [
    "x =list(range(10))"
   ]
  },
  {
   "cell_type": "code",
   "execution_count": 25,
   "metadata": {},
   "outputs": [
    {
     "name": "stdout",
     "output_type": "stream",
     "text": [
      "[(0, 0), (1, 1), (2, 2), (3, 3), (4, 4), (5, 5), (6, 6), (7, 7), (8, 8), (9, 9)]\n"
     ]
    }
   ],
   "source": [
    "print(list(enumerate(x)))"
   ]
  },
  {
   "cell_type": "code",
   "execution_count": 26,
   "metadata": {},
   "outputs": [
    {
     "data": {
      "text/plain": [
       "23"
      ]
     },
     "execution_count": 26,
     "metadata": {},
     "output_type": "execute_result"
    }
   ],
   "source": [
    "608//26\n"
   ]
  },
  {
   "cell_type": "code",
   "execution_count": 27,
   "metadata": {},
   "outputs": [],
   "source": [
    "from __future__ import division\n"
   ]
  },
  {
   "cell_type": "code",
   "execution_count": 28,
   "metadata": {},
   "outputs": [
    {
     "data": {
      "text/plain": [
       "23"
      ]
     },
     "execution_count": 28,
     "metadata": {},
     "output_type": "execute_result"
    }
   ],
   "source": [
    "608//26"
   ]
  },
  {
   "cell_type": "code",
   "execution_count": 30,
   "metadata": {},
   "outputs": [
    {
     "data": {
      "text/plain": [
       "23.384615384615383"
      ]
     },
     "execution_count": 30,
     "metadata": {},
     "output_type": "execute_result"
    }
   ],
   "source": [
    "608/26"
   ]
  },
  {
   "cell_type": "code",
   "execution_count": 29,
   "metadata": {},
   "outputs": [
    {
     "data": {
      "text/plain": [
       "11"
      ]
     },
     "execution_count": 29,
     "metadata": {},
     "output_type": "execute_result"
    }
   ],
   "source": [
    "608//52"
   ]
  },
  {
   "cell_type": "code",
   "execution_count": 31,
   "metadata": {},
   "outputs": [
    {
     "data": {
      "text/plain": [
       "11.692307692307692"
      ]
     },
     "execution_count": 31,
     "metadata": {},
     "output_type": "execute_result"
    }
   ],
   "source": [
    "608/52"
   ]
  },
  {
   "cell_type": "code",
   "execution_count": null,
   "metadata": {},
   "outputs": [],
   "source": []
  }
 ],
 "metadata": {
  "kernelspec": {
   "display_name": "Python 3",
   "language": "python",
   "name": "python3"
  },
  "language_info": {
   "codemirror_mode": {
    "name": "ipython",
    "version": 3
   },
   "file_extension": ".py",
   "mimetype": "text/x-python",
   "name": "python",
   "nbconvert_exporter": "python",
   "pygments_lexer": "ipython3",
   "version": "3.7.3"
  }
 },
 "nbformat": 4,
 "nbformat_minor": 2
}
